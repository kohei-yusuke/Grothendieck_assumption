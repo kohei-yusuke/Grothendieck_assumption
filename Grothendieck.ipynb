{
  "nbformat": 4,
  "nbformat_minor": 0,
  "metadata": {
    "colab": {
      "name": "Grothendieck.pynb",
      "provenance": [],
      "authorship_tag": "ABX9TyPK2pmY829FVmw8/B+kt0DR",
      "include_colab_link": true
    },
    "kernelspec": {
      "name": "python3",
      "display_name": "Python 3"
    },
    "language_info": {
      "name": "python"
    }
  },
  "cells": [
    {
      "cell_type": "markdown",
      "metadata": {
        "id": "view-in-github",
        "colab_type": "text"
      },
      "source": [
        "<a href=\"https://colab.research.google.com/github/kohei-yusuke/Grothendieck_assumption/blob/main/Grothendieck.ipynb\" target=\"_parent\"><img src=\"https://colab.research.google.com/assets/colab-badge.svg\" alt=\"Open In Colab\"/></a>"
      ]
    },
    {
      "cell_type": "code",
      "execution_count": null,
      "metadata": {
        "colab": {
          "base_uri": "https://localhost:8080/"
        },
        "id": "-lSeQKc8jtE4",
        "outputId": "60262680-94d6-4034-afc2-bee3bac1d0ee"
      },
      "outputs": [
        {
          "output_type": "stream",
          "name": "stdout",
          "text": [
            "True\n"
          ]
        }
      ],
      "source": [
        "import numpy as np\n",
        "import itertools\n",
        "\n",
        "# m*n行列Aの設定\n",
        "# 行数m\n",
        "m = 10\n",
        "# 列数n\n",
        "n = 10\n",
        "\n",
        "#行列にランダムな実数を代入\n",
        "A = np.random.normal(0,np.sqrt(30),(m,n)) #正規分布(平均,標準偏差,(m,n))\n",
        "\n",
        "\n",
        "\n",
        "sum = 0\n",
        "sum_list=[]\n",
        "#各X,Yに対して和を計算し、リスト化する。\n",
        "for x,y in itertools.product(itertools.product([-1,1],repeat = m),\n",
        "                              itertools.product([-1,1],repeat = n)):\n",
        "    x = np.array(x)\n",
        "    y = np.array(y)\n",
        "    sum =np.matmul( np.matmul(x.transpose(),A),y)\n",
        "    \n",
        "    sum_list.append(abs(sum))\n",
        "        \n",
        "\n",
        "M = max(sum_list)\n",
        "#Aを正規化して仮定の不等式を満たすようにする\n",
        "A_normarize = A/M \n",
        "\n",
        "#証明の正誤判定の初期化\n",
        "result = True\n",
        "\n",
        "#試行回数Nの設定\n",
        "N=100000\n",
        "\n",
        "for t in range(0,N):\n",
        "    #W,Zベクトルの生成(任意なので分布は何でもよい)\n",
        "    W = np.random.normal(-20,100,m)\n",
        "    Z = np.random.normal(100,1000,n)\n",
        "\n",
        "    #WとZの絶対値に関する最大値を取得\n",
        "    W_max = max(np.abs(W))\n",
        "    Z_max = max(np.abs(Z))\n",
        "    #上の積を取得\n",
        "    right_hand_bound = W_max*Z_max\n",
        "\n",
        "    \n",
        "    sum = np.matmul(np.matmul(W.transpose(),A_normarize),Z)\n",
        "#Falseの場合は左辺と右辺を出力する\n",
        "    if np.abs(sum) > right_hand_bound:\n",
        "        result = False\n",
        "        print(\"Wは\" , W)\n",
        "        print(\"Zは\" , Z)\n",
        "        print(\"Aは\" , A_normarize)\n",
        "        print(\"左辺は\" , np.abs(sum) ,\" \", \"右辺は\" , right_hand_bound)\n",
        "\n",
        "print(result)"
      ]
    }
  ]
}